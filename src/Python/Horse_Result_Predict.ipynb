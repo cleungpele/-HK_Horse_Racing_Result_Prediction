{
 "cells": [
  {
   "cell_type": "markdown",
   "id": "06041d52",
   "metadata": {},
   "source": [
    "### Use season 2021-2022 (in Sep 2021) data to do testing"
   ]
  },
  {
   "cell_type": "code",
   "execution_count": 21,
   "id": "54b23dc2",
   "metadata": {},
   "outputs": [],
   "source": [
    "import pandas as pd\n",
    "import numpy as np\n",
    "import tensorflow as tf"
   ]
  },
  {
   "cell_type": "code",
   "execution_count": 22,
   "id": "3f9f31ea",
   "metadata": {},
   "outputs": [],
   "source": [
    "# df_nn_test.csv contains racing result in season 2021-2022 (Sep 5,2021 to Oct 1, 2021) as of Oct 3, 2021\n",
    "df_nn_test=pd.read_csv('results_nn_test.csv')"
   ]
  },
  {
   "cell_type": "code",
   "execution_count": 23,
   "id": "9f62ccca",
   "metadata": {},
   "outputs": [
    {
     "data": {
      "text/plain": [
       "Index(['r_season', 'r_date', 'r_index', 'r_course', 'r_class', 'r_distance',\n",
       "       'r_tract', 'r_race_no', 'r_horse_no', 'r_brand_no', 'r_horse_age',\n",
       "       'r_jockey', 'r_draw', 'r_rating', 'r_trainer', 'r_LBW',\n",
       "       'r_finish_order', 'r_label', 'r_jockey_pct', 'r_trainer_pct', 'r_ct',\n",
       "       'r_course_val', 'r_lot', 'r_lot_num', 'r_lot_seq', 'r_same_cd_1',\n",
       "       'r_same_cd_2', 'r_same_cd_3', 'r_same_cd_4', 'r_same_cd_x',\n",
       "       'r_sea_race_ind', 'r_draw_val', 'r_same_jh_1', 'r_same_jh_2',\n",
       "       'r_same_jh_3', 'r_same_jh_4', 'r_same_jh_x', 'r_same_tj_1',\n",
       "       'r_same_tj_2', 'r_same_tj_3', 'r_same_tj_4', 'r_same_tj_x'],\n",
       "      dtype='object')"
      ]
     },
     "execution_count": 23,
     "metadata": {},
     "output_type": "execute_result"
    }
   ],
   "source": [
    "df_nn_test.columns"
   ]
  },
  {
   "cell_type": "code",
   "execution_count": 24,
   "id": "92664636",
   "metadata": {},
   "outputs": [
    {
     "data": {
      "text/plain": [
       "849"
      ]
     },
     "execution_count": 24,
     "metadata": {},
     "output_type": "execute_result"
    }
   ],
   "source": [
    "len(df_nn_test)  # <- Contains 72 races"
   ]
  },
  {
   "cell_type": "code",
   "execution_count": 25,
   "id": "e37994db",
   "metadata": {},
   "outputs": [
    {
     "name": "stdout",
     "output_type": "stream",
     "text": [
      "r_index\n",
      "1     14\n",
      "2      8\n",
      "3     12\n",
      "4     13\n",
      "5     14\n",
      "      ..\n",
      "69     9\n",
      "70    14\n",
      "71    10\n",
      "73    14\n",
      "74    13\n",
      "Name: r_index, Length: 72, dtype: int64\n"
     ]
    }
   ],
   "source": [
    "df_race_index=df_nn_test.groupby([\"r_index\"])[\"r_index\"].count()\n",
    "print(df_race_index)    # <- Contains 72 of races"
   ]
  },
  {
   "cell_type": "code",
   "execution_count": 26,
   "id": "5244cc0f",
   "metadata": {},
   "outputs": [],
   "source": [
    "# Select target features\n",
    "df_test=df_nn_test[['r_index',  'r_horse_no',   'r_class', 'r_draw_val',  'r_horse_age',\n",
    "                 'r_rating',     'r_jockey_pct', 'r_trainer_pct',\n",
    "                 'r_same_cd_1', 'r_same_cd_2', 'r_same_cd_3',  \n",
    "                 'r_same_jh_1', 'r_same_jh_2', 'r_same_jh_3', \n",
    "                 'r_same_tj_1', 'r_same_tj_2', 'r_same_tj_3'\n",
    "                 ##,'r_label']]\n",
    "                 ]].sort_values(by=['r_index','r_horse_no'])"
   ]
  },
  {
   "cell_type": "markdown",
   "id": "5cd6825e",
   "metadata": {},
   "source": [
    "## Do predicton for season 2021-2022"
   ]
  },
  {
   "cell_type": "code",
   "execution_count": 40,
   "id": "9ff21c2c",
   "metadata": {},
   "outputs": [],
   "source": [
    "# Load model\n",
    "model = tf.keras.models.load_model( \"Horse_Results\")"
   ]
  },
  {
   "cell_type": "markdown",
   "id": "8a45b7ab",
   "metadata": {},
   "source": [
    "## Change p_r_index to predict which race"
   ]
  },
  {
   "cell_type": "code",
   "execution_count": 50,
   "id": "144cf1cf",
   "metadata": {},
   "outputs": [
    {
     "name": "stderr",
     "output_type": "stream",
     "text": [
      "/Users/pelecheung/opt/anaconda3/lib/python3.8/site-packages/pandas/core/frame.py:3990: SettingWithCopyWarning: \n",
      "A value is trying to be set on a copy of a slice from a DataFrame\n",
      "\n",
      "See the caveats in the documentation: https://pandas.pydata.org/pandas-docs/stable/user_guide/indexing.html#returning-a-view-versus-a-copy\n",
      "  return super().drop(\n"
     ]
    },
    {
     "data": {
      "text/html": [
       "<div>\n",
       "<style scoped>\n",
       "    .dataframe tbody tr th:only-of-type {\n",
       "        vertical-align: middle;\n",
       "    }\n",
       "\n",
       "    .dataframe tbody tr th {\n",
       "        vertical-align: top;\n",
       "    }\n",
       "\n",
       "    .dataframe thead th {\n",
       "        text-align: right;\n",
       "    }\n",
       "</style>\n",
       "<table border=\"1\" class=\"dataframe\">\n",
       "  <thead>\n",
       "    <tr style=\"text-align: right;\">\n",
       "      <th></th>\n",
       "      <th>r_class</th>\n",
       "      <th>r_draw_val</th>\n",
       "      <th>r_horse_age</th>\n",
       "      <th>r_rating</th>\n",
       "      <th>r_jockey_pct</th>\n",
       "      <th>r_trainer_pct</th>\n",
       "      <th>r_same_cd_1</th>\n",
       "      <th>r_same_cd_2</th>\n",
       "      <th>r_same_cd_3</th>\n",
       "      <th>r_same_jh_1</th>\n",
       "      <th>r_same_jh_2</th>\n",
       "      <th>r_same_jh_3</th>\n",
       "      <th>r_same_tj_1</th>\n",
       "      <th>r_same_tj_2</th>\n",
       "      <th>r_same_tj_3</th>\n",
       "    </tr>\n",
       "  </thead>\n",
       "  <tbody>\n",
       "    <tr>\n",
       "      <th>0</th>\n",
       "      <td>4</td>\n",
       "      <td>5</td>\n",
       "      <td>5</td>\n",
       "      <td>60</td>\n",
       "      <td>5.31</td>\n",
       "      <td>9.38</td>\n",
       "      <td>0</td>\n",
       "      <td>0</td>\n",
       "      <td>0</td>\n",
       "      <td>0</td>\n",
       "      <td>0</td>\n",
       "      <td>0</td>\n",
       "      <td>9.28</td>\n",
       "      <td>3.09</td>\n",
       "      <td>4.12</td>\n",
       "    </tr>\n",
       "    <tr>\n",
       "      <th>1</th>\n",
       "      <td>4</td>\n",
       "      <td>2</td>\n",
       "      <td>5</td>\n",
       "      <td>59</td>\n",
       "      <td>4.24</td>\n",
       "      <td>9.68</td>\n",
       "      <td>0</td>\n",
       "      <td>0</td>\n",
       "      <td>0</td>\n",
       "      <td>0</td>\n",
       "      <td>0</td>\n",
       "      <td>0</td>\n",
       "      <td>5.26</td>\n",
       "      <td>7.89</td>\n",
       "      <td>13.16</td>\n",
       "    </tr>\n",
       "  </tbody>\n",
       "</table>\n",
       "</div>"
      ],
      "text/plain": [
       "   r_class  r_draw_val  r_horse_age  r_rating  r_jockey_pct  r_trainer_pct  \\\n",
       "0        4           5            5        60          5.31           9.38   \n",
       "1        4           2            5        59          4.24           9.68   \n",
       "\n",
       "   r_same_cd_1  r_same_cd_2  r_same_cd_3  r_same_jh_1  r_same_jh_2  \\\n",
       "0            0            0            0            0            0   \n",
       "1            0            0            0            0            0   \n",
       "\n",
       "   r_same_jh_3  r_same_tj_1  r_same_tj_2  r_same_tj_3  \n",
       "0            0         9.28         3.09         4.12  \n",
       "1            0         5.26         7.89        13.16  "
      ]
     },
     "execution_count": 50,
     "metadata": {},
     "output_type": "execute_result"
    }
   ],
   "source": [
    "# Select race (race index number for do prediction)\n",
    "p_r_index=51\n",
    "\n",
    "df_test_pred=df_test.loc[df_test['r_index']==p_r_index]\n",
    "\n",
    "# Drop column 'r_index'\n",
    "df_test_pred.drop(['r_index','r_horse_no' ], axis=1 , inplace=True)\n",
    "df_test_pred.reset_index(drop=True, inplace=True)\n",
    "df_test_pred.head(2)"
   ]
  },
  {
   "cell_type": "code",
   "execution_count": 51,
   "id": "df2ac7a5",
   "metadata": {},
   "outputs": [
    {
     "name": "stdout",
     "output_type": "stream",
     "text": [
      "(12, 3)\n"
     ]
    }
   ],
   "source": [
    "\n",
    "# Start Predit\n",
    "preds = model.predict(df_test_pred)\n",
    "# print(\"preds shape:\", preds.shape)\n",
    "#print(preds)\n",
    "\n",
    "# Rename predict result to 'Pred'\n",
    "df_H_Preds=pd.DataFrame(preds)\n",
    "df_H_Preds.columns = ['Pred']\n",
    "\n",
    "# Add column 'Horse_no'\n",
    "df_H_Preds.insert(loc=0, column='Horse_no', value=np.arange(len(df_H_Preds))+1)\n",
    "\n",
    "# Sort the predict result\n",
    "df_H_Preds.sort_values(by='Pred', inplace=True)\n",
    "\n",
    "# Add new colum Pred_Position \n",
    "df_H_Preds.insert(loc=0, column='Pred_Position', value=np.arange(len(df_H_Preds))+1)\n",
    "\n",
    "df_H_Preds['Race_Index'] = p_r_index\n",
    "\n",
    "# Sort result based on Horse_no\n",
    "\n",
    "df_HP_out=df_H_Preds[['Race_Index', 'Horse_no', 'Pred_Position']].sort_values(by='Horse_no').reset_index(drop=True)\n",
    "\n",
    "print(df_HP_out.shape)"
   ]
  },
  {
   "cell_type": "code",
   "execution_count": 52,
   "id": "8bdc40fc",
   "metadata": {},
   "outputs": [
    {
     "data": {
      "text/html": [
       "<div>\n",
       "<style scoped>\n",
       "    .dataframe tbody tr th:only-of-type {\n",
       "        vertical-align: middle;\n",
       "    }\n",
       "\n",
       "    .dataframe tbody tr th {\n",
       "        vertical-align: top;\n",
       "    }\n",
       "\n",
       "    .dataframe thead th {\n",
       "        text-align: right;\n",
       "    }\n",
       "</style>\n",
       "<table border=\"1\" class=\"dataframe\">\n",
       "  <thead>\n",
       "    <tr style=\"text-align: right;\">\n",
       "      <th></th>\n",
       "      <th>Race_Index</th>\n",
       "      <th>Horse_no</th>\n",
       "      <th>Pred_Position</th>\n",
       "      <th>r_finish_order</th>\n",
       "      <th>r_horse_no</th>\n",
       "    </tr>\n",
       "  </thead>\n",
       "  <tbody>\n",
       "    <tr>\n",
       "      <th>0</th>\n",
       "      <td>51</td>\n",
       "      <td>1</td>\n",
       "      <td>12</td>\n",
       "      <td>11</td>\n",
       "      <td>1</td>\n",
       "    </tr>\n",
       "    <tr>\n",
       "      <th>1</th>\n",
       "      <td>51</td>\n",
       "      <td>2</td>\n",
       "      <td>11</td>\n",
       "      <td>5</td>\n",
       "      <td>2</td>\n",
       "    </tr>\n",
       "    <tr>\n",
       "      <th>2</th>\n",
       "      <td>51</td>\n",
       "      <td>3</td>\n",
       "      <td>1</td>\n",
       "      <td>2</td>\n",
       "      <td>3</td>\n",
       "    </tr>\n",
       "    <tr>\n",
       "      <th>3</th>\n",
       "      <td>51</td>\n",
       "      <td>4</td>\n",
       "      <td>2</td>\n",
       "      <td>9</td>\n",
       "      <td>4</td>\n",
       "    </tr>\n",
       "    <tr>\n",
       "      <th>4</th>\n",
       "      <td>51</td>\n",
       "      <td>5</td>\n",
       "      <td>3</td>\n",
       "      <td>1</td>\n",
       "      <td>5</td>\n",
       "    </tr>\n",
       "    <tr>\n",
       "      <th>5</th>\n",
       "      <td>51</td>\n",
       "      <td>6</td>\n",
       "      <td>5</td>\n",
       "      <td>7</td>\n",
       "      <td>6</td>\n",
       "    </tr>\n",
       "    <tr>\n",
       "      <th>6</th>\n",
       "      <td>51</td>\n",
       "      <td>7</td>\n",
       "      <td>6</td>\n",
       "      <td>10</td>\n",
       "      <td>7</td>\n",
       "    </tr>\n",
       "    <tr>\n",
       "      <th>7</th>\n",
       "      <td>51</td>\n",
       "      <td>8</td>\n",
       "      <td>8</td>\n",
       "      <td>8</td>\n",
       "      <td>8</td>\n",
       "    </tr>\n",
       "    <tr>\n",
       "      <th>8</th>\n",
       "      <td>51</td>\n",
       "      <td>9</td>\n",
       "      <td>10</td>\n",
       "      <td>6</td>\n",
       "      <td>9</td>\n",
       "    </tr>\n",
       "    <tr>\n",
       "      <th>9</th>\n",
       "      <td>51</td>\n",
       "      <td>10</td>\n",
       "      <td>4</td>\n",
       "      <td>4</td>\n",
       "      <td>10</td>\n",
       "    </tr>\n",
       "    <tr>\n",
       "      <th>10</th>\n",
       "      <td>51</td>\n",
       "      <td>11</td>\n",
       "      <td>7</td>\n",
       "      <td>12</td>\n",
       "      <td>11</td>\n",
       "    </tr>\n",
       "    <tr>\n",
       "      <th>11</th>\n",
       "      <td>51</td>\n",
       "      <td>12</td>\n",
       "      <td>9</td>\n",
       "      <td>3</td>\n",
       "      <td>12</td>\n",
       "    </tr>\n",
       "  </tbody>\n",
       "</table>\n",
       "</div>"
      ],
      "text/plain": [
       "    Race_Index  Horse_no  Pred_Position  r_finish_order  r_horse_no\n",
       "0           51         1             12              11           1\n",
       "1           51         2             11               5           2\n",
       "2           51         3              1               2           3\n",
       "3           51         4              2               9           4\n",
       "4           51         5              3               1           5\n",
       "5           51         6              5               7           6\n",
       "6           51         7              6              10           7\n",
       "7           51         8              8               8           8\n",
       "8           51         9             10               6           9\n",
       "9           51        10              4               4          10\n",
       "10          51        11              7              12          11\n",
       "11          51        12              9               3          12"
      ]
     },
     "execution_count": 52,
     "metadata": {},
     "output_type": "execute_result"
    }
   ],
   "source": [
    "# Check actual results with predict results\n",
    "# Get actual from df_nn_test\n",
    "df_nn_labels=df_nn_test.loc[df_nn_test['r_index']==p_r_index]\n",
    "\n",
    "# Use column r_hors_no r_label\n",
    "df_labels=df_nn_labels[['r_horse_no','r_finish_order']]\n",
    "\n",
    "df_lables_v=df_labels[['r_horse_no','r_finish_order']].sort_values(by='r_horse_no').reset_index(drop=True)\n",
    "           \n",
    "# print(df_lables_v.shape)\n",
    "# Comapre file\n",
    "df_HP_out[['r_finish_order','r_horse_no']]=df_lables_v[['r_finish_order','r_horse_no']]\n",
    "df_HP_out"
   ]
  }
 ],
 "metadata": {
  "kernelspec": {
   "display_name": "Python 3",
   "language": "python",
   "name": "python3"
  },
  "language_info": {
   "codemirror_mode": {
    "name": "ipython",
    "version": 3
   },
   "file_extension": ".py",
   "mimetype": "text/x-python",
   "name": "python",
   "nbconvert_exporter": "python",
   "pygments_lexer": "ipython3",
   "version": "3.8.8"
  }
 },
 "nbformat": 4,
 "nbformat_minor": 5
}
